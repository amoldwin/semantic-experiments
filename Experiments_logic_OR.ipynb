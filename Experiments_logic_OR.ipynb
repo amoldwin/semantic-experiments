{
 "cells": [
  {
   "cell_type": "code",
   "execution_count": 1,
   "id": "2a56b132-e6df-4d8d-9f0e-d6214c8ae84f",
   "metadata": {},
   "outputs": [],
   "source": [
    "import numpy as np\n",
    "import pandas as pd\n",
    "from matplotlib import pyplot as plt\n",
    "from scipy.linalg import svd"
   ]
  },
  {
   "cell_type": "code",
   "execution_count": 2,
   "id": "a91fec73-2ffb-44be-908b-8367beb167d3",
   "metadata": {},
   "outputs": [],
   "source": [
    "properties = ['grow','move','roots','fly','swim','leaves','petals']"
   ]
  },
  {
   "cell_type": "code",
   "execution_count": 3,
   "id": "3d461457-0819-42dc-851f-00fbace568ec",
   "metadata": {},
   "outputs": [],
   "source": [
    "items ={\n",
    "    'canary': [1,1,0,1,0,0,0],\n",
    "    'salmon': [1,1,0,0,1,0,0],\n",
    "    'oak': [1,0,1,0,0,1,0],\n",
    "    'rose': [1,0,1,0,0,0,1],\n",
    "    }"
   ]
  },
  {
   "cell_type": "code",
   "execution_count": 59,
   "id": "63e7e4d9-b0ff-44e3-81c0-69e12b39115f",
   "metadata": {},
   "outputs": [],
   "source": [
    "item_names = list(items.keys())"
   ]
  },
  {
   "cell_type": "code",
   "execution_count": 4,
   "id": "9a909157-6d4f-413e-83db-ee701bcd5e3f",
   "metadata": {},
   "outputs": [
    {
     "data": {
      "text/plain": [
       "[['plant', 'animal'],\n",
       " ['flower', 'tree', 'bird', 'fish'],\n",
       " ['daisy', 'rose', 'oak', 'pine', 'canary', 'robin', 'salmon', 'sunfish']]"
      ]
     },
     "execution_count": 4,
     "metadata": {},
     "output_type": "execute_result"
    }
   ],
   "source": [
    "[['plant','animal'],['flower','tree','bird','fish'],['daisy','rose','oak','pine','canary','robin','salmon','sunfish']]"
   ]
  },
  {
   "cell_type": "code",
   "execution_count": 5,
   "id": "39bb03dd-426a-477e-a20c-36eab77370f4",
   "metadata": {},
   "outputs": [
    {
     "data": {
      "text/plain": [
       "{'plant': ['flower', 'tree'],\n",
       " 'animal': ['bird', 'fish'],\n",
       " 'flower': ['daisy', 'rose'],\n",
       " 'tree:': ['oak', 'pine'],\n",
       " 'bird': ['canary', 'robin'],\n",
       " 'fish': ['salmon', 'sunfish']}"
      ]
     },
     "execution_count": 5,
     "metadata": {},
     "output_type": "execute_result"
    }
   ],
   "source": [
    "{\n",
    "    'plant':['flower','tree'],\n",
    "    'animal':['bird','fish'],\n",
    "    'flower':['daisy', 'rose'],\n",
    "    'tree:':[ 'oak', 'pine' ],\n",
    "    'bird':['canary', 'robin'],\n",
    "    'fish':[ 'salmon', 'sunfish']\n",
    "    \n",
    "}"
   ]
  },
  {
   "cell_type": "code",
   "execution_count": 6,
   "id": "ef102b5d-2fca-4348-b74d-0e2f78bc0852",
   "metadata": {},
   "outputs": [],
   "source": [
    "data = np.array(list(items.values())).T"
   ]
  },
  {
   "cell_type": "code",
   "execution_count": 7,
   "id": "0f6097fe-4fb9-40a4-8eb1-32a41940fd21",
   "metadata": {},
   "outputs": [
    {
     "data": {
      "image/png": "[encoded data removed]",
      "text/plain": [
       "<Figure size 432x288 with 2 Axes>"
      ]
     },
     "metadata": {
      "needs_background": "light"
     },
     "output_type": "display_data"
    }
   ],
   "source": [
    "import numpy as np\n",
    "import matplotlib.pyplot as plt\n",
    "from matplotlib.colors import LinearSegmentedColormap\n",
    "\n",
    "# Generate a random 2D array for demonstration\n",
    "# data = np.random.rand(10, 10) * 2 - 1  # Values between -1 and 1\n",
    "\n",
    "# Define the custom colormap\n",
    "colors = [(0, 'blue'), (0.5, 'white'), (1, 'red')]  # Blue, White, Red\n",
    "custom_cmap = LinearSegmentedColormap.from_list('custom', colors)\n",
    "\n",
    "# Plot the heatmap\n",
    "plt.imshow(data, cmap=custom_cmap, vmin=-1, vmax=1)\n",
    "plt.colorbar()  # Add a colorbar for reference\n",
    "plt.title('Custom Heatmap')\n",
    "plt.show()\n"
   ]
  },
  {
   "cell_type": "code",
   "execution_count": 8,
   "id": "5064b159-62c9-445a-93dc-fcb0d7d8918a",
   "metadata": {},
   "outputs": [],
   "source": [
    "U,S,V = np.linalg.svd(data,full_matrices=False)"
   ]
  },
  {
   "cell_type": "code",
   "execution_count": 9,
   "id": "37771cb0-6acd-421e-b14a-3d1f42e54b06",
   "metadata": {},
   "outputs": [
    {
     "data": {
      "text/plain": [
       "<matplotlib.colorbar.Colorbar at 0x7fb37fb25e20>"
      ]
     },
     "execution_count": 9,
     "metadata": {},
     "output_type": "execute_result"
    },
    {
     "data": {
      "image/png": "[encoded data removed]",
      "text/plain": [
       "<Figure size 432x288 with 2 Axes>"
      ]
     },
     "metadata": {
      "needs_background": "light"
     },
     "output_type": "display_data"
    }
   ],
   "source": [
    "\n",
    "plt.imshow(U*-1, cmap=custom_cmap, vmin=-1, vmax=1)\n",
    "plt.colorbar()  # Add a colorbar for reference\n"
   ]
  },
  {
   "cell_type": "code",
   "execution_count": 10,
   "id": "f368b8a9-b61d-404b-ac0d-50765a34fd79",
   "metadata": {},
   "outputs": [
    {
     "data": {
      "text/plain": [
       "<matplotlib.colorbar.Colorbar at 0x7fb37fa01400>"
      ]
     },
     "execution_count": 10,
     "metadata": {},
     "output_type": "execute_result"
    },
    {
     "data": {
      "image/png": "[encoded data removed]",
      "text/plain": [
       "<Figure size 432x288 with 2 Axes>"
      ]
     },
     "metadata": {
      "needs_background": "light"
     },
     "output_type": "display_data"
    }
   ],
   "source": [
    "plt.imshow(V*-1, cmap=custom_cmap, vmin=-1, vmax=1)\n",
    "plt.colorbar()  # Add a colorbar for reference"
   ]
  },
  {
   "cell_type": "code",
   "execution_count": 11,
   "id": "363c0b48-9434-4f13-8039-54865ff98b31",
   "metadata": {},
   "outputs": [
    {
     "data": {
      "text/plain": [
       "<matplotlib.colorbar.Colorbar at 0x7fb37f958760>"
      ]
     },
     "execution_count": 11,
     "metadata": {},
     "output_type": "execute_result"
    },
    {
     "data": {
      "image/png": "[encoded data removed]",
      "text/plain": [
       "<Figure size 432x288 with 2 Axes>"
      ]
     },
     "metadata": {
      "needs_background": "light"
     },
     "output_type": "display_data"
    }
   ],
   "source": [
    "\n",
    "plt.imshow(np.diag(S)/max(S), cmap=custom_cmap, vmin=-1, vmax=1)\n",
    "plt.colorbar()  # Add a colorbar for reference\n"
   ]
  },
  {
   "cell_type": "code",
   "execution_count": 12,
   "id": "1b304e51-28e9-4bab-a43b-943de322b33c",
   "metadata": {},
   "outputs": [],
   "source": [
    "def initializer_(model, gamma=1e-12):\n",
    "  \"\"\"\n",
    "  In-place Re-initialization of weights\n",
    "\n",
    "  Args:\n",
    "    model: torch.nn.Module\n",
    "      PyTorch neural net model\n",
    "    gamma: float\n",
    "      Initialization scale\n",
    "\n",
    "  Returns:\n",
    "    Nothing\n",
    "  \"\"\"\n",
    "  for weight in model.parameters():\n",
    "    n_out, n_in = weight.shape\n",
    "    sigma = gamma / math.sqrt(n_in + n_out)\n",
    "    nn.init.normal_(weight, mean=0.0, std=sigma)"
   ]
  },
  {
   "cell_type": "code",
   "execution_count": 13,
   "id": "fb13764a-42cf-4c86-b0a6-df1044044098",
   "metadata": {},
   "outputs": [
    {
     "data": {
      "text/plain": [
       "7"
      ]
     },
     "execution_count": 13,
     "metadata": {},
     "output_type": "execute_result"
    }
   ],
   "source": [
    "data.shape[0]"
   ]
  },
  {
   "cell_type": "code",
   "execution_count": 14,
   "id": "a9093f22-af44-4e11-b34e-3f3bd0814e41",
   "metadata": {},
   "outputs": [
    {
     "name": "stderr",
     "output_type": "stream",
     "text": [
      "2024-05-02 12:06:02.111287: I external/local_tsl/tsl/cuda/cudart_stub.cc:31] Could not find cuda drivers on your machine, GPU will not be used.\n",
      "2024-05-02 12:06:02.739267: E external/local_xla/xla/stream_executor/cuda/cuda_dnn.cc:9261] Unable to register cuDNN factory: Attempting to register factory for plugin cuDNN when one has already been registered\n",
      "2024-05-02 12:06:02.739345: E external/local_xla/xla/stream_executor/cuda/cuda_fft.cc:607] Unable to register cuFFT factory: Attempting to register factory for plugin cuFFT when one has already been registered\n",
      "2024-05-02 12:06:02.882832: E external/local_xla/xla/stream_executor/cuda/cuda_blas.cc:1515] Unable to register cuBLAS factory: Attempting to register factory for plugin cuBLAS when one has already been registered\n",
      "2024-05-02 12:06:03.200919: I external/local_tsl/tsl/cuda/cudart_stub.cc:31] Could not find cuda drivers on your machine, GPU will not be used.\n",
      "2024-05-02 12:06:03.206203: I tensorflow/core/platform/cpu_feature_guard.cc:182] This TensorFlow binary is optimized to use available CPU instructions in performance-critical operations.\n",
      "To enable the following instructions: AVX2 FMA, in other operations, rebuild TensorFlow with the appropriate compiler flags.\n",
      "2024-05-02 12:06:07.389918: W tensorflow/compiler/tf2tensorrt/utils/py_utils.cc:38] TF-TRT Warning: Could not find TensorRT\n"
     ]
    }
   ],
   "source": [
    "import tensorflow as tf\n",
    "from tensorflow.keras.optimizers import SGD\n",
    "from tensorflow.keras import initializers\n",
    "\n",
    "def create_model(input_dim,data):\n",
    "    # Custom initializer with small norm\n",
    "    initializer = initializers.RandomNormal(mean=0.0, stddev=5e-2)\n",
    "\n",
    "    model = tf.keras.Sequential([\n",
    "        tf.keras.layers.Input(shape=(input_dim,), name='input_layer'),\n",
    "        tf.keras.layers.Dense(units=data.shape[0], activation='linear', name='hidden_layer_1', use_bias=False,\n",
    "                              kernel_initializer=initializer),\n",
    "        tf.keras.layers.Dense(units=data.shape[0], activation='linear', name='hidden_layer_2', use_bias=False,\n",
    "                              kernel_initializer=initializer),\n",
    "    ])\n",
    "    learning_rate = 1  # Set your desired learning rate\n",
    "    optimizer = SGD(learning_rate=learning_rate)\n",
    "    model.compile(optimizer=optimizer, loss='mean_squared_error')\n",
    "\n",
    "    return model\n"
   ]
  },
  {
   "cell_type": "code",
   "execution_count": 15,
   "id": "08408d16-184e-42e0-b01b-1d19ff7217d9",
   "metadata": {},
   "outputs": [],
   "source": [
    "def get_onehots(input_array):\n",
    "    indices_of_ones = np.where(input_array == 1)[0]\n",
    "\n",
    "    # Create one-hot arrays for each index\n",
    "    one_hot_arrays = [np.eye(len(input_array))[idx] for idx in indices_of_ones]\n",
    "    return one_hot_arrays"
   ]
  },
  {
   "cell_type": "code",
   "execution_count": 16,
   "id": "f69139a2-cdbc-452b-b25e-234cae81a7b5",
   "metadata": {},
   "outputs": [
    {
     "data": {
      "text/plain": [
       "[array([1., 0., 0., 0., 0., 0., 0.]),\n",
       " array([0., 1., 0., 0., 0., 0., 0.]),\n",
       " array([0., 0., 0., 1., 0., 0., 0.])]"
      ]
     },
     "execution_count": 16,
     "metadata": {},
     "output_type": "execute_result"
    }
   ],
   "source": [
    "get_onehots(data.T[0])"
   ]
  },
  {
   "cell_type": "code",
   "execution_count": 17,
   "id": "54f5c7fb-200b-4569-b2da-7a9dd2c4ae91",
   "metadata": {},
   "outputs": [],
   "source": [
    "data_xs = np.eye(data.shape[1])"
   ]
  },
  {
   "cell_type": "code",
   "execution_count": 18,
   "id": "fa58ffe2-039c-4224-892a-ac95eac6fef0",
   "metadata": {},
   "outputs": [
    {
     "data": {
      "text/plain": [
       "array([[1., 0., 0., 0.],\n",
       "       [0., 1., 0., 0.],\n",
       "       [0., 0., 1., 0.],\n",
       "       [0., 0., 0., 1.]])"
      ]
     },
     "execution_count": 18,
     "metadata": {},
     "output_type": "execute_result"
    }
   ],
   "source": [
    "data_xs"
   ]
  },
  {
   "cell_type": "code",
   "execution_count": 19,
   "id": "172dd2af-dec0-420d-a79b-eac86407bf7f",
   "metadata": {},
   "outputs": [],
   "source": [
    "data_df = pd.DataFrame((zip(data_xs, data.T)), columns=['x','y'])"
   ]
  },
  {
   "cell_type": "code",
   "execution_count": 20,
   "id": "acb4e4db-4b93-425a-8f5b-50f6893eced7",
   "metadata": {},
   "outputs": [],
   "source": [
    "# data_df['onehots'] = data_df['y'].apply( get_onehots)"
   ]
  },
  {
   "cell_type": "code",
   "execution_count": 21,
   "id": "348548b0-f4fe-402b-ab5e-e4ea15e20183",
   "metadata": {},
   "outputs": [],
   "source": [
    "# data_df = data_df.explode('onehots')"
   ]
  },
  {
   "cell_type": "code",
   "execution_count": 22,
   "id": "6319e164-d037-4724-a9f6-ff03f2977ed3",
   "metadata": {},
   "outputs": [
    {
     "data": {
      "text/html": [
       "<div>\n",
       "<style scoped>\n",
       "    .dataframe tbody tr th:only-of-type {\n",
       "        vertical-align: middle;\n",
       "    }\n",
       "\n",
       "    .dataframe tbody tr th {\n",
       "        vertical-align: top;\n",
       "    }\n",
       "\n",
       "    .dataframe thead th {\n",
       "        text-align: right;\n",
       "    }\n",
       "</style>\n",
       "<table border=\"1\" class=\"dataframe\">\n",
       "  <thead>\n",
       "    <tr style=\"text-align: right;\">\n",
       "      <th></th>\n",
       "      <th>x</th>\n",
       "      <th>y</th>\n",
       "    </tr>\n",
       "  </thead>\n",
       "  <tbody>\n",
       "    <tr>\n",
       "      <th>0</th>\n",
       "      <td>[1.0, 0.0, 0.0, 0.0]</td>\n",
       "      <td>[1, 1, 0, 1, 0, 0, 0]</td>\n",
       "    </tr>\n",
       "    <tr>\n",
       "      <th>1</th>\n",
       "      <td>[0.0, 1.0, 0.0, 0.0]</td>\n",
       "      <td>[1, 1, 0, 0, 1, 0, 0]</td>\n",
       "    </tr>\n",
       "    <tr>\n",
       "      <th>2</th>\n",
       "      <td>[0.0, 0.0, 1.0, 0.0]</td>\n",
       "      <td>[1, 0, 1, 0, 0, 1, 0]</td>\n",
       "    </tr>\n",
       "    <tr>\n",
       "      <th>3</th>\n",
       "      <td>[0.0, 0.0, 0.0, 1.0]</td>\n",
       "      <td>[1, 0, 1, 0, 0, 0, 1]</td>\n",
       "    </tr>\n",
       "  </tbody>\n",
       "</table>\n",
       "</div>"
      ],
      "text/plain": [
       "                      x                      y\n",
       "0  [1.0, 0.0, 0.0, 0.0]  [1, 1, 0, 1, 0, 0, 0]\n",
       "1  [0.0, 1.0, 0.0, 0.0]  [1, 1, 0, 0, 1, 0, 0]\n",
       "2  [0.0, 0.0, 1.0, 0.0]  [1, 0, 1, 0, 0, 1, 0]\n",
       "3  [0.0, 0.0, 0.0, 1.0]  [1, 0, 1, 0, 0, 0, 1]"
      ]
     },
     "execution_count": 22,
     "metadata": {},
     "output_type": "execute_result"
    }
   ],
   "source": [
    "data_df"
   ]
  },
  {
   "cell_type": "code",
   "execution_count": 70,
   "id": "25c5a8fd-01c4-454c-9c7b-4df6308284d2",
   "metadata": {},
   "outputs": [],
   "source": [
    "x_pair_sums = [data_df.iloc[i]['x']+ data_df.iloc[j]['x'] for i in range(len(data_df)) for j in range(i+1, len(data_df))]\n",
    "y_or = [np.logical_or(data_df.iloc[i]['y'], data_df.iloc[j]['y']).astype(int) for i in range(len(data_df)) for j in range(i+1, len(data_df))]\n",
    "y_and = [np.logical_and(data_df.iloc[i]['y'], data_df.iloc[j]['y']).astype(int) for i in range(len(data_df)) for j in range(i+1, len(data_df))]\n",
    "x_names = [item_names[i] +' OR '+ item_names[j] for i in range(len(data_df)) for j in range(i+1, len(data_df))]\n"
   ]
  },
  {
   "cell_type": "code",
   "execution_count": 68,
   "id": "ce82c382-063b-4af7-a23a-b2e73404b662",
   "metadata": {},
   "outputs": [],
   "source": [
    "or_df = pd.concat([data_df, pd.DataFrame(zip(x_pair_sums,y_or), columns=['x','y'])])\n",
    "and_df = pd.concat([data_df, pd.DataFrame(zip(x_pair_sums,y_and), columns=['x','y'])])"
   ]
  },
  {
   "cell_type": "code",
   "execution_count": 45,
   "id": "2e630c3e-8b37-45d5-9526-ab11ba776715",
   "metadata": {},
   "outputs": [
    {
     "data": {
      "text/html": [
       "<div>\n",
       "<style scoped>\n",
       "    .dataframe tbody tr th:only-of-type {\n",
       "        vertical-align: middle;\n",
       "    }\n",
       "\n",
       "    .dataframe tbody tr th {\n",
       "        vertical-align: top;\n",
       "    }\n",
       "\n",
       "    .dataframe thead th {\n",
       "        text-align: right;\n",
       "    }\n",
       "</style>\n",
       "<table border=\"1\" class=\"dataframe\">\n",
       "  <thead>\n",
       "    <tr style=\"text-align: right;\">\n",
       "      <th></th>\n",
       "      <th>x</th>\n",
       "      <th>y</th>\n",
       "    </tr>\n",
       "  </thead>\n",
       "  <tbody>\n",
       "    <tr>\n",
       "      <th>0</th>\n",
       "      <td>[1.0, 0.0, 0.0, 0.0]</td>\n",
       "      <td>[1, 1, 0, 1, 0, 0, 0]</td>\n",
       "    </tr>\n",
       "    <tr>\n",
       "      <th>1</th>\n",
       "      <td>[0.0, 1.0, 0.0, 0.0]</td>\n",
       "      <td>[1, 1, 0, 0, 1, 0, 0]</td>\n",
       "    </tr>\n",
       "    <tr>\n",
       "      <th>2</th>\n",
       "      <td>[0.0, 0.0, 1.0, 0.0]</td>\n",
       "      <td>[1, 0, 1, 0, 0, 1, 0]</td>\n",
       "    </tr>\n",
       "    <tr>\n",
       "      <th>3</th>\n",
       "      <td>[0.0, 0.0, 0.0, 1.0]</td>\n",
       "      <td>[1, 0, 1, 0, 0, 0, 1]</td>\n",
       "    </tr>\n",
       "    <tr>\n",
       "      <th>0</th>\n",
       "      <td>[1.0, 1.0, 0.0, 0.0]</td>\n",
       "      <td>[1, 1, 0, 1, 1, 0, 0]</td>\n",
       "    </tr>\n",
       "    <tr>\n",
       "      <th>1</th>\n",
       "      <td>[1.0, 0.0, 1.0, 0.0]</td>\n",
       "      <td>[1, 1, 1, 1, 0, 1, 0]</td>\n",
       "    </tr>\n",
       "    <tr>\n",
       "      <th>2</th>\n",
       "      <td>[1.0, 0.0, 0.0, 1.0]</td>\n",
       "      <td>[1, 1, 1, 1, 0, 0, 1]</td>\n",
       "    </tr>\n",
       "    <tr>\n",
       "      <th>3</th>\n",
       "      <td>[0.0, 1.0, 1.0, 0.0]</td>\n",
       "      <td>[1, 1, 1, 0, 1, 1, 0]</td>\n",
       "    </tr>\n",
       "    <tr>\n",
       "      <th>4</th>\n",
       "      <td>[0.0, 1.0, 0.0, 1.0]</td>\n",
       "      <td>[1, 1, 1, 0, 1, 0, 1]</td>\n",
       "    </tr>\n",
       "    <tr>\n",
       "      <th>5</th>\n",
       "      <td>[0.0, 0.0, 1.0, 1.0]</td>\n",
       "      <td>[1, 0, 1, 0, 0, 1, 1]</td>\n",
       "    </tr>\n",
       "  </tbody>\n",
       "</table>\n",
       "</div>"
      ],
      "text/plain": [
       "                      x                      y\n",
       "0  [1.0, 0.0, 0.0, 0.0]  [1, 1, 0, 1, 0, 0, 0]\n",
       "1  [0.0, 1.0, 0.0, 0.0]  [1, 1, 0, 0, 1, 0, 0]\n",
       "2  [0.0, 0.0, 1.0, 0.0]  [1, 0, 1, 0, 0, 1, 0]\n",
       "3  [0.0, 0.0, 0.0, 1.0]  [1, 0, 1, 0, 0, 0, 1]\n",
       "0  [1.0, 1.0, 0.0, 0.0]  [1, 1, 0, 1, 1, 0, 0]\n",
       "1  [1.0, 0.0, 1.0, 0.0]  [1, 1, 1, 1, 0, 1, 0]\n",
       "2  [1.0, 0.0, 0.0, 1.0]  [1, 1, 1, 1, 0, 0, 1]\n",
       "3  [0.0, 1.0, 1.0, 0.0]  [1, 1, 1, 0, 1, 1, 0]\n",
       "4  [0.0, 1.0, 0.0, 1.0]  [1, 1, 1, 0, 1, 0, 1]\n",
       "5  [0.0, 0.0, 1.0, 1.0]  [1, 0, 1, 0, 0, 1, 1]"
      ]
     },
     "execution_count": 45,
     "metadata": {},
     "output_type": "execute_result"
    }
   ],
   "source": [
    "or_df"
   ]
  },
  {
   "cell_type": "code",
   "execution_count": 57,
   "id": "4a02340e-9d8c-4f33-9a03-ebd63fe460b2",
   "metadata": {},
   "outputs": [
    {
     "data": {
      "text/plain": [
       "array([[1., 1., 0., 1., 0., 0., 0.],\n",
       "       [1., 1., 0., 0., 1., 0., 0.],\n",
       "       [1., 0., 1., 0., 0., 1., 0.],\n",
       "       [1., 0., 1., 0., 0., 0., 1.],\n",
       "       [1., 1., 0., 1., 1., 0., 0.],\n",
       "       [1., 1., 1., 1., 0., 1., 0.],\n",
       "       [1., 1., 1., 1., 0., 0., 1.],\n",
       "       [1., 1., 1., 0., 1., 1., 0.],\n",
       "       [1., 1., 1., 0., 1., 0., 1.],\n",
       "       [1., 0., 1., 0., 0., 1., 1.]])"
      ]
     },
     "execution_count": 57,
     "metadata": {},
     "output_type": "execute_result"
    }
   ],
   "source": []
  },
  {
   "cell_type": "code",
   "execution_count": 88,
   "id": "80b5b9ae-ba77-4359-85fe-9ec09f5c16b7",
   "metadata": {},
   "outputs": [
    {
     "data": {
      "image/png": "[encoded data removed]",
      "text/plain": [
       "<Figure size 432x288 with 2 Axes>"
      ]
     },
     "metadata": {
      "needs_background": "light"
     },
     "output_type": "display_data"
    }
   ],
   "source": [
    "plt.imshow(np.array(list(or_df['y'])).astype(float).T, cmap=custom_cmap, vmin=-1, vmax=1)\n",
    "plt.colorbar()  # Add a colorbar for reference\n",
    "plt.title('$\\Sigma^{yx}$ for logical OR')\n",
    "plt.xticks(np.arange(len(item_names +x_names)), item_names+x_names, rotation='vertical')\n",
    "plt.yticks(np.arange(len(properties)), properties)\n",
    "plt.savefig('logic_OR_groundtruth_sigma.png', bbox_inches='tight')\n",
    "plt.show()\n"
   ]
  },
  {
   "cell_type": "code",
   "execution_count": 75,
   "id": "1ebf64a8-add7-4d4e-8ea0-d3c8141dd23c",
   "metadata": {},
   "outputs": [],
   "source": [
    "U,S,V = np.linalg.svd(np.array(list(or_df['y'])).astype(float).T,full_matrices=False)"
   ]
  },
  {
   "cell_type": "code",
   "execution_count": 82,
   "id": "2df40c30-06c3-41ab-afa0-7d7cacb14928",
   "metadata": {},
   "outputs": [
    {
     "data": {
      "image/png": "[encoded data removed]",
      "text/plain": [
       "<Figure size 432x288 with 2 Axes>"
      ]
     },
     "metadata": {
      "needs_background": "light"
     },
     "output_type": "display_data"
    }
   ],
   "source": [
    "\n",
    "plt.imshow(U*-1, cmap=custom_cmap, vmin=-1, vmax=1)\n",
    "plt.colorbar()  # Add a colorbar for reference\n",
    "plt.title('U*-1')\n",
    "plt.savefig('logic_OR_groundtruth_U.png')"
   ]
  },
  {
   "cell_type": "code",
   "execution_count": 85,
   "id": "ed85c902-0f50-41c1-9c34-11d9e2335b1f",
   "metadata": {},
   "outputs": [
    {
     "data": {
      "image/png": "[encoded data removed]",
      "text/plain": [
       "<Figure size 432x288 with 2 Axes>"
      ]
     },
     "metadata": {
      "needs_background": "light"
     },
     "output_type": "display_data"
    }
   ],
   "source": [
    "plt.imshow(V*-1, cmap=custom_cmap, vmin=-1, vmax=1)\n",
    "plt.colorbar()  # Add a colorbar for reference\n",
    "plt.title('V*-1')\n",
    "plt.savefig('logic_OR_groundtruth_V.png')"
   ]
  },
  {
   "cell_type": "code",
   "execution_count": null,
   "id": "c796caf4-b22e-47ab-9159-1482e497d5d3",
   "metadata": {},
   "outputs": [],
   "source": []
  },
  {
   "cell_type": "code",
   "execution_count": 87,
   "id": "4477ec1d-b84d-45d8-a95e-6ee3223c052c",
   "metadata": {},
   "outputs": [
    {
     "data": {
      "image/png": "[encoded data removed]",
      "text/plain": [
       "<Figure size 432x288 with 2 Axes>"
      ]
     },
     "metadata": {
      "needs_background": "light"
     },
     "output_type": "display_data"
    }
   ],
   "source": [
    "\n",
    "plt.imshow(np.diag(S)/max(S), cmap=custom_cmap, vmin=-1, vmax=1)\n",
    "plt.colorbar()  # Add a colorbar for reference\n",
    "plt.title('S')\n",
    "plt.savefig('logic_OR_groundtruth_alpha.png')"
   ]
  },
  {
   "cell_type": "code",
   "execution_count": 46,
   "id": "01270657-4bbf-46d6-9931-f24459e7c813",
   "metadata": {},
   "outputs": [],
   "source": [
    "xs = np.array(or_df['x'].tolist())\n",
    "ys = np.array(or_df['y'].tolist())"
   ]
  },
  {
   "cell_type": "code",
   "execution_count": 47,
   "id": "879037fd-627b-4a0f-a980-2ee1c35ac7bd",
   "metadata": {},
   "outputs": [],
   "source": [
    "input_dim = data_xs.shape[0]"
   ]
  },
  {
   "cell_type": "code",
   "execution_count": 48,
   "id": "8fa3efa4-8856-4cca-b9f9-eb035927aacf",
   "metadata": {
    "tags": []
   },
   "outputs": [
    {
     "name": "stderr",
     "output_type": "stream",
     "text": [
      "/home/amoldwin/.local/lib/python3.9/site-packages/keras/src/initializers/initializers.py:120: UserWarning: The initializer RandomNormal is unseeded and being called multiple times, which will return identical values each time (even if the initializer is unseeded). Please update your code to provide a seed to the initializer, or avoid using the same initializer instance more than once.\n",
      "  warnings.warn(\n"
     ]
    },
    {
     "name": "stdout",
     "output_type": "stream",
     "text": [
      "1/1 [==============================] - 0s 125ms/step\n",
      "10/10 [==============================] - 0s 988us/step - loss: 0.4184\n",
      "1/1 [==============================] - 0s 10ms/step\n",
      "10/10 [==============================] - 0s 700us/step - loss: 0.2373\n",
      "1/1 [==============================] - 0s 10ms/step\n",
      "10/10 [==============================] - 0s 765us/step - loss: 0.1599\n",
      "1/1 [==============================] - 0s 10ms/step\n",
      "10/10 [==============================] - 0s 761us/step - loss: 0.0949\n",
      "1/1 [==============================] - 0s 10ms/step\n",
      "10/10 [==============================] - 0s 789us/step - loss: 0.1124\n",
      "1/1 [==============================] - 0s 11ms/step\n",
      "10/10 [==============================] - 0s 1ms/step - loss: 0.0768\n",
      "1/1 [==============================] - 0s 12ms/step\n",
      "10/10 [==============================] - 0s 766us/step - loss: 0.0722\n",
      "1/1 [==============================] - 0s 11ms/step\n",
      "10/10 [==============================] - 0s 843us/step - loss: 0.0946\n",
      "1/1 [==============================] - 0s 11ms/step\n",
      "10/10 [==============================] - 0s 737us/step - loss: 0.1062\n",
      "1/1 [==============================] - 0s 11ms/step\n",
      "1/1 [==============================] - 0s 24ms/step\n",
      "10/10 [==============================] - 0s 815us/step - loss: 0.4883\n",
      "1/1 [==============================] - 0s 11ms/step\n",
      "10/10 [==============================] - 0s 843us/step - loss: 0.2582\n",
      "1/1 [==============================] - 0s 11ms/step\n",
      "10/10 [==============================] - 0s 847us/step - loss: 0.2136\n",
      "1/1 [==============================] - 0s 11ms/step\n",
      "10/10 [==============================] - 0s 845us/step - loss: 0.1393\n",
      "1/1 [==============================] - 0s 11ms/step\n",
      "10/10 [==============================] - 0s 789us/step - loss: 0.0814\n",
      "1/1 [==============================] - 0s 11ms/step\n",
      "10/10 [==============================] - 0s 881us/step - loss: 0.1301\n",
      "1/1 [==============================] - 0s 11ms/step\n",
      "10/10 [==============================] - 0s 764us/step - loss: 0.0915\n",
      "1/1 [==============================] - 0s 10ms/step\n",
      "10/10 [==============================] - 0s 837us/step - loss: 0.0940\n",
      "1/1 [==============================] - 0s 10ms/step\n",
      "10/10 [==============================] - 0s 816us/step - loss: 0.0753\n",
      "1/1 [==============================] - 0s 10ms/step\n",
      "1/1 [==============================] - 0s 22ms/step\n",
      "10/10 [==============================] - 0s 1ms/step - loss: 0.4880\n",
      "1/1 [==============================] - 0s 12ms/step\n",
      "10/10 [==============================] - 0s 766us/step - loss: 0.2499\n",
      "1/1 [==============================] - 0s 11ms/step\n",
      "10/10 [==============================] - 0s 820us/step - loss: 0.2068\n",
      "1/1 [==============================] - 0s 10ms/step\n",
      "10/10 [==============================] - 0s 809us/step - loss: 0.1108\n",
      "1/1 [==============================] - 0s 11ms/step\n",
      "10/10 [==============================] - 0s 711us/step - loss: 0.1278\n",
      "1/1 [==============================] - 0s 10ms/step\n",
      "10/10 [==============================] - 0s 780us/step - loss: 0.1298\n",
      "1/1 [==============================] - 0s 10ms/step\n",
      "10/10 [==============================] - 0s 782us/step - loss: 0.0888\n",
      "1/1 [==============================] - 0s 10ms/step\n",
      "10/10 [==============================] - 0s 861us/step - loss: 0.0671\n",
      "1/1 [==============================] - 0s 11ms/step\n",
      "10/10 [==============================] - 0s 788us/step - loss: 0.1009\n",
      "1/1 [==============================] - 0s 11ms/step\n",
      "1/1 [==============================] - 0s 23ms/step\n",
      "10/10 [==============================] - 0s 792us/step - loss: 0.4884\n",
      "1/1 [==============================] - 0s 11ms/step\n",
      "10/10 [==============================] - 0s 1ms/step - loss: 0.2563\n",
      "1/1 [==============================] - 0s 11ms/step\n",
      "10/10 [==============================] - 0s 732us/step - loss: 0.2059\n",
      "1/1 [==============================] - 0s 10ms/step\n",
      "10/10 [==============================] - 0s 716us/step - loss: 0.1064\n",
      "1/1 [==============================] - 0s 10ms/step\n",
      "10/10 [==============================] - 0s 687us/step - loss: 0.2142\n",
      "1/1 [==============================] - 0s 10ms/step\n",
      "10/10 [==============================] - 0s 697us/step - loss: 0.1926\n",
      "1/1 [==============================] - 0s 10ms/step\n",
      "10/10 [==============================] - 0s 694us/step - loss: 0.0628\n",
      "1/1 [==============================] - 0s 10ms/step\n",
      "10/10 [==============================] - 0s 709us/step - loss: 0.0648\n",
      "1/1 [==============================] - 0s 10ms/step\n",
      "10/10 [==============================] - 0s 967us/step - loss: 0.1159\n",
      "1/1 [==============================] - 0s 11ms/step\n",
      "1/1 [==============================] - 0s 23ms/step\n",
      "10/10 [==============================] - 0s 737us/step - loss: 0.4697\n",
      "1/1 [==============================] - 0s 10ms/step\n",
      "10/10 [==============================] - 0s 706us/step - loss: 0.2342\n",
      "1/1 [==============================] - 0s 10ms/step\n",
      "10/10 [==============================] - 0s 757us/step - loss: 0.1512\n",
      "1/1 [==============================] - 0s 10ms/step\n",
      "10/10 [==============================] - 0s 986us/step - loss: 0.0790\n",
      "1/1 [==============================] - 0s 11ms/step\n",
      "10/10 [==============================] - 0s 851us/step - loss: 0.0811\n",
      "1/1 [==============================] - 0s 11ms/step\n",
      "10/10 [==============================] - 0s 866us/step - loss: 0.0683\n",
      "1/1 [==============================] - 0s 11ms/step\n",
      "10/10 [==============================] - 0s 924us/step - loss: 0.0749\n",
      "1/1 [==============================] - 0s 11ms/step\n",
      "10/10 [==============================] - 0s 1ms/step - loss: 0.1133\n",
      "1/1 [==============================] - 0s 11ms/step\n",
      "10/10 [==============================] - 0s 872us/step - loss: 0.0609\n",
      "1/1 [==============================] - 0s 11ms/step\n"
     ]
    }
   ],
   "source": [
    "# Train the model\n",
    "all_runs = []\n",
    "for run in range(5):\n",
    "    model=create_model(input_dim, data)\n",
    "    all_predictions = []\n",
    "    predictions = model.predict( data_xs)\n",
    "    all_predictions.append(predictions)\n",
    "    for i in range(9):\n",
    "        model.fit(xs,  ys, epochs=1, batch_size=1);\n",
    "        predictions = model.predict( data_xs)\n",
    "        all_predictions.append(predictions)\n",
    "    all_runs.append(all_predictions)"
   ]
  },
  {
   "cell_type": "code",
   "execution_count": 49,
   "id": "8d907bb0-0068-4fdb-ae62-a8315a7fe99b",
   "metadata": {},
   "outputs": [
    {
     "data": {
      "text/plain": [
       "(10, 4, 7)"
      ]
     },
     "execution_count": 49,
     "metadata": {},
     "output_type": "execute_result"
    }
   ],
   "source": [
    "np.array(all_predictions).shape"
   ]
  },
  {
   "cell_type": "code",
   "execution_count": 50,
   "id": "5602b894-fe5c-4918-958b-cd4fa479f6db",
   "metadata": {},
   "outputs": [],
   "source": [
    "mean_preds = np.array(all_runs).mean(axis=0)"
   ]
  },
  {
   "cell_type": "code",
   "execution_count": 51,
   "id": "90043661-ce47-4316-96d8-29555ecf5a2e",
   "metadata": {},
   "outputs": [
    {
     "data": {
      "image/png": "[encoded data removed]",
      "text/plain": [
       "<Figure size 720x360 with 10 Axes>"
      ]
     },
     "metadata": {
      "needs_background": "light"
     },
     "output_type": "display_data"
    }
   ],
   "source": [
    "fig, axs = plt.subplots(1, len(mean_preds), figsize=(10, 5))  # Adjust figsize as needed\n",
    "\n",
    "for i, predictions in enumerate(mean_preds):\n",
    "    axs[i].imshow(predictions.T, cmap=custom_cmap, vmin=-1, vmax=1)\n",
    "    if i == 0:\n",
    "        axs[i].set_title(\"Initialization\")  # Set title for the first subplot\n",
    "        axs[i].set_ylabel(\"Y Label\")  # Set ylabel for the first subplot\n",
    "        # plt.colorbar(ax=axs[i], orientation='vertical', label=\"Colorbar Label\")  # Add colorbar to the first subplot\n",
    "    else:\n",
    "        axs[i].set_title(\"Epoch {}\".format(i))  # Set title for other subplots\n",
    "\n",
    "plt.tight_layout()  # Adjust spacing between subplots\n",
    "plt.show()"
   ]
  },
  {
   "cell_type": "code",
   "execution_count": 52,
   "id": "c1a5c63e-0814-46bc-aa3f-218f7d958173",
   "metadata": {},
   "outputs": [
    {
     "data": {
      "image/png": "[encoded data removed]",
      "text/plain": [
       "<Figure size 720x360 with 10 Axes>"
      ]
     },
     "metadata": {
      "needs_background": "light"
     },
     "output_type": "display_data"
    }
   ],
   "source": [
    "fig, axs = plt.subplots(1, len(mean_preds), figsize=(10, 5))  # Adjust figsize as needed\n",
    "\n",
    "for i, predictions in enumerate(mean_preds):\n",
    "    U,S,V = np.linalg.svd(predictions,full_matrices=False)\n",
    "    axs[i].imshow(V.T*-1, cmap=custom_cmap, vmin=-1, vmax=1)\n",
    "    if i == 0:\n",
    "        axs[i].set_title(\"Initialzation\")  # Set title for the first subplot\n",
    "        axs[i].set_ylabel(\"Y Label\")  # Set ylabel for the first subplot\n",
    "        # plt.colorbar(ax=axs[i], orientation='vertical', label=\"Colorbar Label\")  # Add colorbar to the first subplot\n",
    "    else:\n",
    "        axs[i].set_title(\"Epoch {}\".format(i+1))  # Set title for other subplots\n",
    "\n",
    "plt.tight_layout()  # Adjust spacing between subplots\n",
    "# im = axs[i].imshow(predictions.T, cmap=custom_cmap, vmin=-1, vmax=1)\n",
    "\n",
    "# plt.colorbar(im,ax=axs[i], orientation='vertical', label=\"Colorbar Label\") \n",
    "plt.show()"
   ]
  },
  {
   "cell_type": "code",
   "execution_count": 73,
   "id": "5d9b4d04-7ab8-4340-ba30-d6a9788353e1",
   "metadata": {},
   "outputs": [
    {
     "data": {
      "image/png": "[encoded data removed]",
      "text/plain": [
       "<Figure size 720x360 with 10 Axes>"
      ]
     },
     "metadata": {
      "needs_background": "light"
     },
     "output_type": "display_data"
    }
   ],
   "source": [
    "fig, axs = plt.subplots(1, len(mean_preds), figsize=(10, 5))  # Adjust figsize as needed\n",
    "alphas = []\n",
    "for i, predictions in enumerate(mean_preds):\n",
    "    U,S,V = np.linalg.svd(predictions,full_matrices=False)\n",
    "    alphas.append(S)\n",
    "    axs[i].imshow(np.eye(4)*S, cmap=custom_cmap, vmin=-1, vmax=1)\n",
    "    if i == 0:\n",
    "        axs[i].set_title(\"Initialzation\")  # Set title for the first subplot\n",
    "        axs[i].set_ylabel(\"Y Label\")  # Set ylabel for the first subplot\n",
    "        # plt.colorbar(ax=axs[i], orientation='vertical', label=\"Colorbar Label\")  # Add colorbar to the first subplot\n",
    "    else:\n",
    "        axs[i].set_title(\"Epoch {}\".format(i+1))  # Set title for other subplots\n",
    "\n",
    "plt.tight_layout()  # Adjust spacing between subplots\n",
    "# im = axs[i].imshow(predictions.T, cmap=custom_cmap, vmin=-1, vmax=1)\n",
    "\n",
    "# plt.colorbar(im,ax=axs[i], orientation='vertical', label=\"Colorbar Label\") \n",
    "plt.show()"
   ]
  },
  {
   "cell_type": "code",
   "execution_count": 74,
   "id": "e109f61b-d8e8-4490-b841-b9d751bfb74e",
   "metadata": {},
   "outputs": [
    {
     "data": {
      "image/png": "[encoded data removed]",
      "text/plain": [
       "<Figure size 432x288 with 1 Axes>"
      ]
     },
     "metadata": {
      "needs_background": "light"
     },
     "output_type": "display_data"
    }
   ],
   "source": [
    "for i in range(len(alphas[0])):\n",
    "    plt.plot(np.array(alphas)[:,i])"
   ]
  },
  {
   "cell_type": "code",
   "execution_count": 422,
   "id": "fb8acdc9-7c61-4684-a100-c9b488fb9d48",
   "metadata": {},
   "outputs": [],
   "source": [
    "#why is SVD different\n",
    "#effect of bias\n",
    "#effect of learning rule\n",
    "#effect of dimensionality\n",
    "#effect of lr"
   ]
  },
  {
   "cell_type": "code",
   "execution_count": 423,
   "id": "656d0210-be09-4a34-b5b5-8a504417b07c",
   "metadata": {},
   "outputs": [
    {
     "data": {
      "text/plain": [
       "array([[-0.5084667 ,  0.5025238 , -0.02896492,  0.6986362 ],\n",
       "       [-0.49513555,  0.49324703,  0.06101957, -0.71261823],\n",
       "       [-0.49928352, -0.48072165, -0.71928716, -0.04741966],\n",
       "       [-0.49700943, -0.5225743 ,  0.69142145,  0.04282663]],\n",
       "      dtype=float32)"
      ]
     },
     "execution_count": 423,
     "metadata": {},
     "output_type": "execute_result"
    }
   ],
   "source": [
    "U"
   ]
  },
  {
   "cell_type": "code",
   "execution_count": null,
   "id": "5a0eb119-ddc5-4b5e-b5ec-eee64075a861",
   "metadata": {},
   "outputs": [],
   "source": []
  }
 ],
 "metadata": {
  "kernelspec": {
   "display_name": "Python 3 (ipykernel)",
   "language": "python",
   "name": "python3"
  },
  "language_info": {
   "codemirror_mode": {
    "name": "ipython",
    "version": 3
   },
   "file_extension": ".py",
   "mimetype": "text/x-python",
   "name": "python",
   "nbconvert_exporter": "python",
   "pygments_lexer": "ipython3",
   "version": "3.9.9"
  }
 },
 "nbformat": 4,
 "nbformat_minor": 5
}
